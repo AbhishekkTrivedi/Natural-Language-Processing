{
  "nbformat": 4,
  "nbformat_minor": 0,
  "metadata": {
    "kernelspec": {
      "display_name": "Python 3",
      "language": "python",
      "name": "python3"
    },
    "language_info": {
      "codemirror_mode": {
        "name": "ipython",
        "version": 3
      },
      "file_extension": ".py",
      "mimetype": "text/x-python",
      "name": "python",
      "nbconvert_exporter": "python",
      "pygments_lexer": "ipython3",
      "version": "3.7.3"
    },
    "colab": {
      "name": "2-ngrams_&_Stemmer.ipynb",
      "provenance": [],
      "include_colab_link": true
    }
  },
  "cells": [
    {
      "cell_type": "markdown",
      "metadata": {
        "id": "view-in-github",
        "colab_type": "text"
      },
      "source": [
        "<a href=\"https://colab.research.google.com/github/tecXworld/Natural-Language-Processing/blob/main/2_ngrams_%26_Stemmer.ipynb\" target=\"_parent\"><img src=\"https://colab.research.google.com/assets/colab-badge.svg\" alt=\"Open In Colab\"/></a>"
      ]
    },
    {
      "cell_type": "code",
      "metadata": {
        "id": "1_sUEnxaajxt"
      },
      "source": [
        "import nltk\n",
        "nltk.download('all')\n",
        "from nltk.tokenize import word_tokenize"
      ],
      "execution_count": null,
      "outputs": []
    },
    {
      "cell_type": "code",
      "metadata": {
        "id": "_La6ij_aajx4"
      },
      "source": [
        "black_smoke = \"Did you know there was a tower,Where they look out to the Land, To see the people quickly passing by\""
      ],
      "execution_count": 19,
      "outputs": []
    },
    {
      "cell_type": "code",
      "metadata": {
        "collapsed": true,
        "colab": {
          "base_uri": "https://localhost:8080/"
        },
        "id": "y7N-UQ5Lajx6",
        "outputId": "6cbdb57b-8862-40aa-cc93-bfed15912333"
      },
      "source": [
        "black_smoke_token = word_tokenize(black_smoke)\n",
        "black_smoke_token"
      ],
      "execution_count": 20,
      "outputs": [
        {
          "output_type": "execute_result",
          "data": {
            "text/plain": [
              "['Did',\n",
              " 'you',\n",
              " 'know',\n",
              " 'there',\n",
              " 'was',\n",
              " 'a',\n",
              " 'tower',\n",
              " ',',\n",
              " 'Where',\n",
              " 'they',\n",
              " 'look',\n",
              " 'out',\n",
              " 'to',\n",
              " 'the',\n",
              " 'Land',\n",
              " ',',\n",
              " 'To',\n",
              " 'see',\n",
              " 'the',\n",
              " 'people',\n",
              " 'quickly',\n",
              " 'passing',\n",
              " 'by']"
            ]
          },
          "metadata": {
            "tags": []
          },
          "execution_count": 20
        }
      ]
    },
    {
      "cell_type": "code",
      "metadata": {
        "colab": {
          "base_uri": "https://localhost:8080/"
        },
        "id": "0xxHQNMmajyA",
        "outputId": "824507e8-5248-4ccf-8437-5eea96ede2e2"
      },
      "source": [
        "list(nltk.bigrams(black_smoke_token))"
      ],
      "execution_count": 21,
      "outputs": [
        {
          "output_type": "execute_result",
          "data": {
            "text/plain": [
              "[('Did', 'you'),\n",
              " ('you', 'know'),\n",
              " ('know', 'there'),\n",
              " ('there', 'was'),\n",
              " ('was', 'a'),\n",
              " ('a', 'tower'),\n",
              " ('tower', ','),\n",
              " (',', 'Where'),\n",
              " ('Where', 'they'),\n",
              " ('they', 'look'),\n",
              " ('look', 'out'),\n",
              " ('out', 'to'),\n",
              " ('to', 'the'),\n",
              " ('the', 'Land'),\n",
              " ('Land', ','),\n",
              " (',', 'To'),\n",
              " ('To', 'see'),\n",
              " ('see', 'the'),\n",
              " ('the', 'people'),\n",
              " ('people', 'quickly'),\n",
              " ('quickly', 'passing'),\n",
              " ('passing', 'by')]"
            ]
          },
          "metadata": {
            "tags": []
          },
          "execution_count": 21
        }
      ]
    },
    {
      "cell_type": "code",
      "metadata": {
        "colab": {
          "base_uri": "https://localhost:8080/"
        },
        "id": "BlFsF__HajyB",
        "outputId": "e640972d-af0a-4b90-9754-9a6e0fa5a3e8"
      },
      "source": [
        "list(nltk.trigrams(black_smoke_token))"
      ],
      "execution_count": 22,
      "outputs": [
        {
          "output_type": "execute_result",
          "data": {
            "text/plain": [
              "[('Did', 'you', 'know'),\n",
              " ('you', 'know', 'there'),\n",
              " ('know', 'there', 'was'),\n",
              " ('there', 'was', 'a'),\n",
              " ('was', 'a', 'tower'),\n",
              " ('a', 'tower', ','),\n",
              " ('tower', ',', 'Where'),\n",
              " (',', 'Where', 'they'),\n",
              " ('Where', 'they', 'look'),\n",
              " ('they', 'look', 'out'),\n",
              " ('look', 'out', 'to'),\n",
              " ('out', 'to', 'the'),\n",
              " ('to', 'the', 'Land'),\n",
              " ('the', 'Land', ','),\n",
              " ('Land', ',', 'To'),\n",
              " (',', 'To', 'see'),\n",
              " ('To', 'see', 'the'),\n",
              " ('see', 'the', 'people'),\n",
              " ('the', 'people', 'quickly'),\n",
              " ('people', 'quickly', 'passing'),\n",
              " ('quickly', 'passing', 'by')]"
            ]
          },
          "metadata": {
            "tags": []
          },
          "execution_count": 22
        }
      ]
    },
    {
      "cell_type": "code",
      "metadata": {
        "colab": {
          "base_uri": "https://localhost:8080/"
        },
        "id": "xgFuM9sIajyD",
        "outputId": "8be45611-24f4-4ab1-aa5b-820946309316"
      },
      "source": [
        "list(nltk.ngrams(black_smoke_token,4))"
      ],
      "execution_count": 23,
      "outputs": [
        {
          "output_type": "execute_result",
          "data": {
            "text/plain": [
              "[('Did', 'you', 'know', 'there'),\n",
              " ('you', 'know', 'there', 'was'),\n",
              " ('know', 'there', 'was', 'a'),\n",
              " ('there', 'was', 'a', 'tower'),\n",
              " ('was', 'a', 'tower', ','),\n",
              " ('a', 'tower', ',', 'Where'),\n",
              " ('tower', ',', 'Where', 'they'),\n",
              " (',', 'Where', 'they', 'look'),\n",
              " ('Where', 'they', 'look', 'out'),\n",
              " ('they', 'look', 'out', 'to'),\n",
              " ('look', 'out', 'to', 'the'),\n",
              " ('out', 'to', 'the', 'Land'),\n",
              " ('to', 'the', 'Land', ','),\n",
              " ('the', 'Land', ',', 'To'),\n",
              " ('Land', ',', 'To', 'see'),\n",
              " (',', 'To', 'see', 'the'),\n",
              " ('To', 'see', 'the', 'people'),\n",
              " ('see', 'the', 'people', 'quickly'),\n",
              " ('the', 'people', 'quickly', 'passing'),\n",
              " ('people', 'quickly', 'passing', 'by')]"
            ]
          },
          "metadata": {
            "tags": []
          },
          "execution_count": 23
        }
      ]
    },
    {
      "cell_type": "code",
      "metadata": {
        "id": "61S3XsXuajyE"
      },
      "source": [
        "#stemming\n",
        "from nltk.stem import PorterStemmer\n",
        "pst=PorterStemmer()"
      ],
      "execution_count": 24,
      "outputs": []
    },
    {
      "cell_type": "code",
      "metadata": {
        "collapsed": true,
        "colab": {
          "base_uri": "https://localhost:8080/"
        },
        "id": "audXYMLyajyF",
        "outputId": "1bb4b439-d709-47ba-fdd4-343cf130cc0e"
      },
      "source": [
        "# CHECK??\n",
        "pst.stem(\"winning\"),pst.stem(\"studies\"),pst.stem(\"buying\")"
      ],
      "execution_count": 25,
      "outputs": [
        {
          "output_type": "execute_result",
          "data": {
            "text/plain": [
              "('win', 'studi', 'buy')"
            ]
          },
          "metadata": {
            "tags": []
          },
          "execution_count": 25
        }
      ]
    }
  ]
}