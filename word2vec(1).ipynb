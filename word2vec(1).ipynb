{
  "nbformat": 4,
  "nbformat_minor": 5,
  "metadata": {
    "kernelspec": {
      "display_name": "Python 3",
      "language": "python",
      "name": "python3"
    },
    "language_info": {
      "codemirror_mode": {
        "name": "ipython",
        "version": 3
      },
      "file_extension": ".py",
      "mimetype": "text/x-python",
      "name": "python",
      "nbconvert_exporter": "python",
      "pygments_lexer": "ipython3",
      "version": "3.8.5"
    },
    "colab": {
      "name": "word2vec(1).ipynb",
      "provenance": [],
      "include_colab_link": true
    }
  },
  "cells": [
    {
      "cell_type": "markdown",
      "metadata": {
        "id": "view-in-github",
        "colab_type": "text"
      },
      "source": [
        "<a href=\"https://colab.research.google.com/github/tecXworld/Natural-Language-Processing/blob/main/word2vec(1).ipynb\" target=\"_parent\"><img src=\"https://colab.research.google.com/assets/colab-badge.svg\" alt=\"Open In Colab\"/></a>"
      ]
    },
    {
      "cell_type": "code",
      "metadata": {
        "id": "alpine-ontario"
      },
      "source": [
        "import nltk\n",
        "nltk.download('all')"
      ],
      "id": "alpine-ontario",
      "execution_count": null,
      "outputs": []
    },
    {
      "cell_type": "code",
      "metadata": {
        "colab": {
          "base_uri": "https://localhost:8080/"
        },
        "id": "confused-smell",
        "outputId": "52d1e0df-4343-4523-c55f-27f59299547b"
      },
      "source": [
        "!pip install gensim"
      ],
      "id": "confused-smell",
      "execution_count": null,
      "outputs": [
        {
          "output_type": "stream",
          "text": [
            "Requirement already satisfied: gensim in /usr/local/lib/python3.7/dist-packages (3.6.0)\n",
            "Requirement already satisfied: numpy>=1.11.3 in /usr/local/lib/python3.7/dist-packages (from gensim) (1.19.5)\n",
            "Requirement already satisfied: scipy>=0.18.1 in /usr/local/lib/python3.7/dist-packages (from gensim) (1.4.1)\n",
            "Requirement already satisfied: smart-open>=1.2.1 in /usr/local/lib/python3.7/dist-packages (from gensim) (5.1.0)\n",
            "Requirement already satisfied: six>=1.5.0 in /usr/local/lib/python3.7/dist-packages (from gensim) (1.15.0)\n"
          ],
          "name": "stdout"
        }
      ]
    },
    {
      "cell_type": "code",
      "metadata": {
        "id": "ecological-camera"
      },
      "source": [
        "from gensim.models import Word2Vec\n",
        "from nltk.corpus import stopwords\n",
        "\n",
        "import re"
      ],
      "id": "ecological-camera",
      "execution_count": null,
      "outputs": []
    },
    {
      "cell_type": "code",
      "metadata": {
        "id": "automated-potter"
      },
      "source": [
        "paragraph = \"\"\"Everything we express (either verbally or in written) carries huge amounts of information. The topic we choose, \n",
        "our tone, our selection of words, everything adds some type of information that can be interpreted and value extracted from it. \n",
        "In theory, we can understand and even predict human behaviour using that information.But there is a problem: one person may \n",
        "generate hundreds or thousands of words in a declaration, each sentence with its corresponding complexity. If you want to scale \n",
        "and analyze several hundreds, thousands or millions of people or declarations in a given geography, then the situation is \n",
        "unmanageable.Data generated from conversations, declarations or even tweets are examples of unstructured data. Unstructured \n",
        "data doesn’t fit neatly into the traditional row and column structure of relational databases, and represent the vast majority \n",
        "of data available in the actual world. It is messy and hard to manipulate. Nevertheless, thanks to the advances in disciplines \n",
        "like machine learning a big revolution is going on regarding this topic. Nowadays it is no longer about trying to interpret a \n",
        "text or speech based on its keywords (the old fashioned mechanical way), but about understanding the meaning behind those words \n",
        "(the cognitive way). This way it is possible to detect figures of speech like irony, or even perform sentiment analysis. It is \n",
        "a discipline that focuses on the interaction between data science and human language, and is scaling to lots of industries. \n",
        "Today NLP is booming thanks to the huge improvements in the access to data and the increase in computational power, which are \n",
        "allowing practitioners to achieve meaningful results in areas like healthcare, media, finance and human resources, among others.\"\"\""
      ],
      "id": "automated-potter",
      "execution_count": null,
      "outputs": []
    },
    {
      "cell_type": "code",
      "metadata": {
        "id": "laden-parallel"
      },
      "source": [
        "text = paragraph.lower()\n",
        "text = re.sub(r'[^a-zA-Z]',' ',paragraph)\n",
        "text = re.sub(r'\\s+',' ',text)"
      ],
      "id": "laden-parallel",
      "execution_count": null,
      "outputs": []
    },
    {
      "cell_type": "code",
      "metadata": {
        "colab": {
          "base_uri": "https://localhost:8080/",
          "height": 137
        },
        "id": "legitimate-socket",
        "outputId": "4f887c69-5fc1-4bc3-fb99-24f01caf2272"
      },
      "source": [
        "text"
      ],
      "id": "legitimate-socket",
      "execution_count": null,
      "outputs": [
        {
          "output_type": "execute_result",
          "data": {
            "application/vnd.google.colaboratory.intrinsic+json": {
              "type": "string"
            },
            "text/plain": [
              "'Everything we express either verbally or in written carries huge amounts of information The topic we choose our tone our selection of words everything adds some type of information that can be interpreted and value extracted from it In theory we can understand and even predict human behaviour using that information But there is a problem one person may generate hundreds or thousands of words in a declaration each sentence with its corresponding complexity If you want to scale and analyze several hundreds thousands or millions of people or declarations in a given geography then the situation is unmanageable Data generated from conversations declarations or even tweets are examples of unstructured data Unstructured data doesn t fit neatly into the traditional row and column structure of relational databases and represent the vast majority of data available in the actual world It is messy and hard to manipulate Nevertheless thanks to the advances in disciplines like machine learning a big revolution is going on regarding this topic Nowadays it is no longer about trying to interpret a text or speech based on its keywords the old fashioned mechanical way but about understanding the meaning behind those words the cognitive way This way it is possible to detect figures of speech like irony or even perform sentiment analysis It is a discipline that focuses on the interaction between data science and human language and is scaling to lots of industries Today NLP is booming thanks to the huge improvements in the access to data and the increase in computational power which are allowing practitioners to achieve meaningful results in areas like healthcare media finance and human resources among others '"
            ]
          },
          "metadata": {
            "tags": []
          },
          "execution_count": 29
        }
      ]
    },
    {
      "cell_type": "code",
      "metadata": {
        "id": "selective-plasma"
      },
      "source": [
        "sentences = nltk.sent_tokenize(text)"
      ],
      "id": "selective-plasma",
      "execution_count": null,
      "outputs": []
    },
    {
      "cell_type": "code",
      "metadata": {
        "id": "classical-intention"
      },
      "source": [
        "sentences = [nltk.word_tokenize(sentence) for sentence in sentences]"
      ],
      "id": "classical-intention",
      "execution_count": null,
      "outputs": []
    },
    {
      "cell_type": "code",
      "metadata": {
        "id": "marine-suite"
      },
      "source": [
        "for i in range(len(sentences)):\n",
        "    sentences[i] = [word for word in sentences[i] if word not in stopwords.words('english')]"
      ],
      "id": "marine-suite",
      "execution_count": null,
      "outputs": []
    },
    {
      "cell_type": "code",
      "metadata": {
        "colab": {
          "base_uri": "https://localhost:8080/"
        },
        "id": "cooked-marks",
        "outputId": "f97913d5-1d3f-4dd4-a9d0-a027bd4b1961"
      },
      "source": [
        "sentences"
      ],
      "id": "cooked-marks",
      "execution_count": null,
      "outputs": [
        {
          "output_type": "execute_result",
          "data": {
            "text/plain": [
              "[['Everything',\n",
              "  'express',\n",
              "  'either',\n",
              "  'verbally',\n",
              "  'written',\n",
              "  'carries',\n",
              "  'huge',\n",
              "  'amounts',\n",
              "  'information',\n",
              "  'The',\n",
              "  'topic',\n",
              "  'choose',\n",
              "  'tone',\n",
              "  'selection',\n",
              "  'words',\n",
              "  'everything',\n",
              "  'adds',\n",
              "  'type',\n",
              "  'information',\n",
              "  'interpreted',\n",
              "  'value',\n",
              "  'extracted',\n",
              "  'In',\n",
              "  'theory',\n",
              "  'understand',\n",
              "  'even',\n",
              "  'predict',\n",
              "  'human',\n",
              "  'behaviour',\n",
              "  'using',\n",
              "  'information',\n",
              "  'But',\n",
              "  'problem',\n",
              "  'one',\n",
              "  'person',\n",
              "  'may',\n",
              "  'generate',\n",
              "  'hundreds',\n",
              "  'thousands',\n",
              "  'words',\n",
              "  'declaration',\n",
              "  'sentence',\n",
              "  'corresponding',\n",
              "  'complexity',\n",
              "  'If',\n",
              "  'want',\n",
              "  'scale',\n",
              "  'analyze',\n",
              "  'several',\n",
              "  'hundreds',\n",
              "  'thousands',\n",
              "  'millions',\n",
              "  'people',\n",
              "  'declarations',\n",
              "  'given',\n",
              "  'geography',\n",
              "  'situation',\n",
              "  'unmanageable',\n",
              "  'Data',\n",
              "  'generated',\n",
              "  'conversations',\n",
              "  'declarations',\n",
              "  'even',\n",
              "  'tweets',\n",
              "  'examples',\n",
              "  'unstructured',\n",
              "  'data',\n",
              "  'Unstructured',\n",
              "  'data',\n",
              "  'fit',\n",
              "  'neatly',\n",
              "  'traditional',\n",
              "  'row',\n",
              "  'column',\n",
              "  'structure',\n",
              "  'relational',\n",
              "  'databases',\n",
              "  'represent',\n",
              "  'vast',\n",
              "  'majority',\n",
              "  'data',\n",
              "  'available',\n",
              "  'actual',\n",
              "  'world',\n",
              "  'It',\n",
              "  'messy',\n",
              "  'hard',\n",
              "  'manipulate',\n",
              "  'Nevertheless',\n",
              "  'thanks',\n",
              "  'advances',\n",
              "  'disciplines',\n",
              "  'like',\n",
              "  'machine',\n",
              "  'learning',\n",
              "  'big',\n",
              "  'revolution',\n",
              "  'going',\n",
              "  'regarding',\n",
              "  'topic',\n",
              "  'Nowadays',\n",
              "  'longer',\n",
              "  'trying',\n",
              "  'interpret',\n",
              "  'text',\n",
              "  'speech',\n",
              "  'based',\n",
              "  'keywords',\n",
              "  'old',\n",
              "  'fashioned',\n",
              "  'mechanical',\n",
              "  'way',\n",
              "  'understanding',\n",
              "  'meaning',\n",
              "  'behind',\n",
              "  'words',\n",
              "  'cognitive',\n",
              "  'way',\n",
              "  'This',\n",
              "  'way',\n",
              "  'possible',\n",
              "  'detect',\n",
              "  'figures',\n",
              "  'speech',\n",
              "  'like',\n",
              "  'irony',\n",
              "  'even',\n",
              "  'perform',\n",
              "  'sentiment',\n",
              "  'analysis',\n",
              "  'It',\n",
              "  'discipline',\n",
              "  'focuses',\n",
              "  'interaction',\n",
              "  'data',\n",
              "  'science',\n",
              "  'human',\n",
              "  'language',\n",
              "  'scaling',\n",
              "  'lots',\n",
              "  'industries',\n",
              "  'Today',\n",
              "  'NLP',\n",
              "  'booming',\n",
              "  'thanks',\n",
              "  'huge',\n",
              "  'improvements',\n",
              "  'access',\n",
              "  'data',\n",
              "  'increase',\n",
              "  'computational',\n",
              "  'power',\n",
              "  'allowing',\n",
              "  'practitioners',\n",
              "  'achieve',\n",
              "  'meaningful',\n",
              "  'results',\n",
              "  'areas',\n",
              "  'like',\n",
              "  'healthcare',\n",
              "  'media',\n",
              "  'finance',\n",
              "  'human',\n",
              "  'resources',\n",
              "  'among',\n",
              "  'others']]"
            ]
          },
          "metadata": {
            "tags": []
          },
          "execution_count": 33
        }
      ]
    },
    {
      "cell_type": "code",
      "metadata": {
        "id": "sexual-conversation"
      },
      "source": [
        "model = Word2Vec(sentences, min_count=1)"
      ],
      "id": "sexual-conversation",
      "execution_count": null,
      "outputs": []
    },
    {
      "cell_type": "code",
      "metadata": {
        "id": "cosmetic-laptop"
      },
      "source": [
        "words = model.wv.vocab"
      ],
      "id": "cosmetic-laptop",
      "execution_count": null,
      "outputs": []
    },
    {
      "cell_type": "code",
      "metadata": {
        "colab": {
          "base_uri": "https://localhost:8080/"
        },
        "id": "double-insert",
        "outputId": "973947b0-24ff-4388-e538-9b9e18587b26"
      },
      "source": [
        "words"
      ],
      "id": "double-insert",
      "execution_count": null,
      "outputs": [
        {
          "output_type": "execute_result",
          "data": {
            "text/plain": [
              "{'But': <gensim.models.keyedvectors.Vocab at 0x7f7269a71c90>,\n",
              " 'Data': <gensim.models.keyedvectors.Vocab at 0x7f726aacc610>,\n",
              " 'Everything': <gensim.models.keyedvectors.Vocab at 0x7f7269a7ec50>,\n",
              " 'If': <gensim.models.keyedvectors.Vocab at 0x7f7269a71fd0>,\n",
              " 'In': <gensim.models.keyedvectors.Vocab at 0x7f7269a7e050>,\n",
              " 'It': <gensim.models.keyedvectors.Vocab at 0x7f7269a82190>,\n",
              " 'NLP': <gensim.models.keyedvectors.Vocab at 0x7f7269a76910>,\n",
              " 'Nevertheless': <gensim.models.keyedvectors.Vocab at 0x7f7269a82290>,\n",
              " 'Nowadays': <gensim.models.keyedvectors.Vocab at 0x7f7269a82550>,\n",
              " 'The': <gensim.models.keyedvectors.Vocab at 0x7f7269a7ea50>,\n",
              " 'This': <gensim.models.keyedvectors.Vocab at 0x7f7269a82950>,\n",
              " 'Today': <gensim.models.keyedvectors.Vocab at 0x7f7269a76510>,\n",
              " 'Unstructured': <gensim.models.keyedvectors.Vocab at 0x7f726aaccdd0>,\n",
              " 'access': <gensim.models.keyedvectors.Vocab at 0x7f7269a76750>,\n",
              " 'achieve': <gensim.models.keyedvectors.Vocab at 0x7f7269a7e510>,\n",
              " 'actual': <gensim.models.keyedvectors.Vocab at 0x7f7269a82110>,\n",
              " 'adds': <gensim.models.keyedvectors.Vocab at 0x7f7269a7ee10>,\n",
              " 'advances': <gensim.models.keyedvectors.Vocab at 0x7f7269a82310>,\n",
              " 'allowing': <gensim.models.keyedvectors.Vocab at 0x7f7269a7e590>,\n",
              " 'among': <gensim.models.keyedvectors.Vocab at 0x7f726ad34450>,\n",
              " 'amounts': <gensim.models.keyedvectors.Vocab at 0x7f7269a7ea10>,\n",
              " 'analysis': <gensim.models.keyedvectors.Vocab at 0x7f7269a82b10>,\n",
              " 'analyze': <gensim.models.keyedvectors.Vocab at 0x7f7269a71650>,\n",
              " 'areas': <gensim.models.keyedvectors.Vocab at 0x7f726ad343d0>,\n",
              " 'available': <gensim.models.keyedvectors.Vocab at 0x7f7269a820d0>,\n",
              " 'based': <gensim.models.keyedvectors.Vocab at 0x7f7269a826d0>,\n",
              " 'behaviour': <gensim.models.keyedvectors.Vocab at 0x7f7269a7eed0>,\n",
              " 'behind': <gensim.models.keyedvectors.Vocab at 0x7f7269a828d0>,\n",
              " 'big': <gensim.models.keyedvectors.Vocab at 0x7f7269a82450>,\n",
              " 'booming': <gensim.models.keyedvectors.Vocab at 0x7f7269a76950>,\n",
              " 'carries': <gensim.models.keyedvectors.Vocab at 0x7f7269a7e690>,\n",
              " 'choose': <gensim.models.keyedvectors.Vocab at 0x7f7269a7e9d0>,\n",
              " 'cognitive': <gensim.models.keyedvectors.Vocab at 0x7f7269a82910>,\n",
              " 'column': <gensim.models.keyedvectors.Vocab at 0x7f726aacc8d0>,\n",
              " 'complexity': <gensim.models.keyedvectors.Vocab at 0x7f7269a71e10>,\n",
              " 'computational': <gensim.models.keyedvectors.Vocab at 0x7f726ad2ce90>,\n",
              " 'conversations': <gensim.models.keyedvectors.Vocab at 0x7f726aaccc90>,\n",
              " 'corresponding': <gensim.models.keyedvectors.Vocab at 0x7f7269a71d10>,\n",
              " 'data': <gensim.models.keyedvectors.Vocab at 0x7f726aacca50>,\n",
              " 'databases': <gensim.models.keyedvectors.Vocab at 0x7f726aacc550>,\n",
              " 'declaration': <gensim.models.keyedvectors.Vocab at 0x7f7269a71490>,\n",
              " 'declarations': <gensim.models.keyedvectors.Vocab at 0x7f726aacc510>,\n",
              " 'detect': <gensim.models.keyedvectors.Vocab at 0x7f7269a829d0>,\n",
              " 'discipline': <gensim.models.keyedvectors.Vocab at 0x7f7269a82b50>,\n",
              " 'disciplines': <gensim.models.keyedvectors.Vocab at 0x7f7269a82350>,\n",
              " 'either': <gensim.models.keyedvectors.Vocab at 0x7f7269a7eb50>,\n",
              " 'even': <gensim.models.keyedvectors.Vocab at 0x7f7269a7efd0>,\n",
              " 'everything': <gensim.models.keyedvectors.Vocab at 0x7f7269a7e7d0>,\n",
              " 'examples': <gensim.models.keyedvectors.Vocab at 0x7f726aacc7d0>,\n",
              " 'express': <gensim.models.keyedvectors.Vocab at 0x7f7269a7ecd0>,\n",
              " 'extracted': <gensim.models.keyedvectors.Vocab at 0x7f7269a7e390>,\n",
              " 'fashioned': <gensim.models.keyedvectors.Vocab at 0x7f7269a82790>,\n",
              " 'figures': <gensim.models.keyedvectors.Vocab at 0x7f7269a82a10>,\n",
              " 'finance': <gensim.models.keyedvectors.Vocab at 0x7f726ad34350>,\n",
              " 'fit': <gensim.models.keyedvectors.Vocab at 0x7f726aacc910>,\n",
              " 'focuses': <gensim.models.keyedvectors.Vocab at 0x7f7269a76090>,\n",
              " 'generate': <gensim.models.keyedvectors.Vocab at 0x7f7269a715d0>,\n",
              " 'generated': <gensim.models.keyedvectors.Vocab at 0x7f726aaccad0>,\n",
              " 'geography': <gensim.models.keyedvectors.Vocab at 0x7f726aacc590>,\n",
              " 'given': <gensim.models.keyedvectors.Vocab at 0x7f726aacc0d0>,\n",
              " 'going': <gensim.models.keyedvectors.Vocab at 0x7f7269a824d0>,\n",
              " 'hard': <gensim.models.keyedvectors.Vocab at 0x7f7269a82210>,\n",
              " 'healthcare': <gensim.models.keyedvectors.Vocab at 0x7f726ad34210>,\n",
              " 'huge': <gensim.models.keyedvectors.Vocab at 0x7f7269a7e910>,\n",
              " 'human': <gensim.models.keyedvectors.Vocab at 0x7f7269a7ef90>,\n",
              " 'hundreds': <gensim.models.keyedvectors.Vocab at 0x7f7269a71110>,\n",
              " 'improvements': <gensim.models.keyedvectors.Vocab at 0x7f7269a76ad0>,\n",
              " 'increase': <gensim.models.keyedvectors.Vocab at 0x7f726ad2cad0>,\n",
              " 'industries': <gensim.models.keyedvectors.Vocab at 0x7f7269a760d0>,\n",
              " 'information': <gensim.models.keyedvectors.Vocab at 0x7f7269a7e990>,\n",
              " 'interaction': <gensim.models.keyedvectors.Vocab at 0x7f7269a76c10>,\n",
              " 'interpret': <gensim.models.keyedvectors.Vocab at 0x7f7269a82610>,\n",
              " 'interpreted': <gensim.models.keyedvectors.Vocab at 0x7f7269a7e110>,\n",
              " 'irony': <gensim.models.keyedvectors.Vocab at 0x7f7269a82a50>,\n",
              " 'keywords': <gensim.models.keyedvectors.Vocab at 0x7f7269a82710>,\n",
              " 'language': <gensim.models.keyedvectors.Vocab at 0x7f7269a76b90>,\n",
              " 'learning': <gensim.models.keyedvectors.Vocab at 0x7f7269a82410>,\n",
              " 'like': <gensim.models.keyedvectors.Vocab at 0x7f7269a82390>,\n",
              " 'longer': <gensim.models.keyedvectors.Vocab at 0x7f7269a82590>,\n",
              " 'lots': <gensim.models.keyedvectors.Vocab at 0x7f7269a76810>,\n",
              " 'machine': <gensim.models.keyedvectors.Vocab at 0x7f7269a823d0>,\n",
              " 'majority': <gensim.models.keyedvectors.Vocab at 0x7f7269a82090>,\n",
              " 'manipulate': <gensim.models.keyedvectors.Vocab at 0x7f7269a82250>,\n",
              " 'may': <gensim.models.keyedvectors.Vocab at 0x7f7269a71f50>,\n",
              " 'meaning': <gensim.models.keyedvectors.Vocab at 0x7f7269a82890>,\n",
              " 'meaningful': <gensim.models.keyedvectors.Vocab at 0x7f7269a7e4d0>,\n",
              " 'mechanical': <gensim.models.keyedvectors.Vocab at 0x7f7269a827d0>,\n",
              " 'media': <gensim.models.keyedvectors.Vocab at 0x7f726ad34150>,\n",
              " 'messy': <gensim.models.keyedvectors.Vocab at 0x7f7269a821d0>,\n",
              " 'millions': <gensim.models.keyedvectors.Vocab at 0x7f7269a71b10>,\n",
              " 'neatly': <gensim.models.keyedvectors.Vocab at 0x7f726aaccd90>,\n",
              " 'old': <gensim.models.keyedvectors.Vocab at 0x7f7269a82750>,\n",
              " 'one': <gensim.models.keyedvectors.Vocab at 0x7f7269a71090>,\n",
              " 'others': <gensim.models.keyedvectors.Vocab at 0x7f726ad34590>,\n",
              " 'people': <gensim.models.keyedvectors.Vocab at 0x7f7269a71390>,\n",
              " 'perform': <gensim.models.keyedvectors.Vocab at 0x7f7269a82a90>,\n",
              " 'person': <gensim.models.keyedvectors.Vocab at 0x7f7269a71190>,\n",
              " 'possible': <gensim.models.keyedvectors.Vocab at 0x7f7269a82990>,\n",
              " 'power': <gensim.models.keyedvectors.Vocab at 0x7f7269a7e5d0>,\n",
              " 'practitioners': <gensim.models.keyedvectors.Vocab at 0x7f7269a7e550>,\n",
              " 'predict': <gensim.models.keyedvectors.Vocab at 0x7f7269a7ee90>,\n",
              " 'problem': <gensim.models.keyedvectors.Vocab at 0x7f7269a71a90>,\n",
              " 'regarding': <gensim.models.keyedvectors.Vocab at 0x7f7269a82510>,\n",
              " 'relational': <gensim.models.keyedvectors.Vocab at 0x7f726aacced0>,\n",
              " 'represent': <gensim.models.keyedvectors.Vocab at 0x7f726aacc4d0>,\n",
              " 'resources': <gensim.models.keyedvectors.Vocab at 0x7f726ad34110>,\n",
              " 'results': <gensim.models.keyedvectors.Vocab at 0x7f726ad34690>,\n",
              " 'revolution': <gensim.models.keyedvectors.Vocab at 0x7f7269a82490>,\n",
              " 'row': <gensim.models.keyedvectors.Vocab at 0x7f726aacc110>,\n",
              " 'scale': <gensim.models.keyedvectors.Vocab at 0x7f7269a71b90>,\n",
              " 'scaling': <gensim.models.keyedvectors.Vocab at 0x7f7269a76610>,\n",
              " 'science': <gensim.models.keyedvectors.Vocab at 0x7f7269a764d0>,\n",
              " 'selection': <gensim.models.keyedvectors.Vocab at 0x7f7269a7e890>,\n",
              " 'sentence': <gensim.models.keyedvectors.Vocab at 0x7f7269a71bd0>,\n",
              " 'sentiment': <gensim.models.keyedvectors.Vocab at 0x7f7269a82ad0>,\n",
              " 'several': <gensim.models.keyedvectors.Vocab at 0x7f7269a71990>,\n",
              " 'situation': <gensim.models.keyedvectors.Vocab at 0x7f726aacc490>,\n",
              " 'speech': <gensim.models.keyedvectors.Vocab at 0x7f7269a82690>,\n",
              " 'structure': <gensim.models.keyedvectors.Vocab at 0x7f726aacc1d0>,\n",
              " 'text': <gensim.models.keyedvectors.Vocab at 0x7f7269a82650>,\n",
              " 'thanks': <gensim.models.keyedvectors.Vocab at 0x7f7269a822d0>,\n",
              " 'theory': <gensim.models.keyedvectors.Vocab at 0x7f7269a7ef10>,\n",
              " 'thousands': <gensim.models.keyedvectors.Vocab at 0x7f7269a71590>,\n",
              " 'tone': <gensim.models.keyedvectors.Vocab at 0x7f7269a7e790>,\n",
              " 'topic': <gensim.models.keyedvectors.Vocab at 0x7f7269a7e650>,\n",
              " 'traditional': <gensim.models.keyedvectors.Vocab at 0x7f726aacc710>,\n",
              " 'trying': <gensim.models.keyedvectors.Vocab at 0x7f7269a825d0>,\n",
              " 'tweets': <gensim.models.keyedvectors.Vocab at 0x7f726aacc9d0>,\n",
              " 'type': <gensim.models.keyedvectors.Vocab at 0x7f7269a7e950>,\n",
              " 'understand': <gensim.models.keyedvectors.Vocab at 0x7f7269a7e210>,\n",
              " 'understanding': <gensim.models.keyedvectors.Vocab at 0x7f7269a82850>,\n",
              " 'unmanageable': <gensim.models.keyedvectors.Vocab at 0x7f726aacc410>,\n",
              " 'unstructured': <gensim.models.keyedvectors.Vocab at 0x7f726aacce50>,\n",
              " 'using': <gensim.models.keyedvectors.Vocab at 0x7f7269a71950>,\n",
              " 'value': <gensim.models.keyedvectors.Vocab at 0x7f7269a7ee50>,\n",
              " 'vast': <gensim.models.keyedvectors.Vocab at 0x7f7269a82050>,\n",
              " 'verbally': <gensim.models.keyedvectors.Vocab at 0x7f7269a7ec10>,\n",
              " 'want': <gensim.models.keyedvectors.Vocab at 0x7f7269a71450>,\n",
              " 'way': <gensim.models.keyedvectors.Vocab at 0x7f7269a82810>,\n",
              " 'words': <gensim.models.keyedvectors.Vocab at 0x7f7269a7ef50>,\n",
              " 'world': <gensim.models.keyedvectors.Vocab at 0x7f7269a82150>,\n",
              " 'written': <gensim.models.keyedvectors.Vocab at 0x7f7269a7ebd0>}"
            ]
          },
          "metadata": {
            "tags": []
          },
          "execution_count": 36
        }
      ]
    },
    {
      "cell_type": "code",
      "metadata": {
        "id": "based-chancellor"
      },
      "source": [
        "vector = model.wv['fit']"
      ],
      "id": "based-chancellor",
      "execution_count": null,
      "outputs": []
    },
    {
      "cell_type": "code",
      "metadata": {
        "id": "favorite-customs"
      },
      "source": [
        "similar = model.wv.most_similar('fit')"
      ],
      "id": "favorite-customs",
      "execution_count": null,
      "outputs": []
    },
    {
      "cell_type": "code",
      "metadata": {
        "colab": {
          "base_uri": "https://localhost:8080/"
        },
        "id": "fleet-linux",
        "outputId": "6245befa-6a16-41f2-bdb6-e7dc93f00ec4"
      },
      "source": [
        "vector"
      ],
      "id": "fleet-linux",
      "execution_count": null,
      "outputs": [
        {
          "output_type": "execute_result",
          "data": {
            "text/plain": [
              "array([ 4.5428011e-03,  4.7378018e-03, -1.7620114e-04,  4.0380619e-03,\n",
              "       -2.6698196e-03, -1.3975058e-03, -1.8262697e-03,  3.3638941e-03,\n",
              "        2.2011234e-03, -2.9840122e-03, -1.3390976e-03,  1.5900220e-03,\n",
              "        4.8604216e-03,  3.1706789e-03, -2.3317588e-03, -1.5633096e-03,\n",
              "        1.5921936e-04, -1.4661357e-03, -4.6695177e-03,  2.2160778e-04,\n",
              "        1.9179179e-05,  1.7769415e-03,  8.6292881e-04,  2.5991665e-03,\n",
              "        2.8490031e-03, -4.6736184e-03,  1.9089457e-03, -4.2711189e-03,\n",
              "        4.7905454e-03, -2.6366373e-03, -3.2302826e-03,  1.5488693e-03,\n",
              "       -1.4399997e-03,  1.5163154e-03, -3.2415388e-03,  3.5787413e-03,\n",
              "        4.2987037e-03, -1.4405928e-03,  4.7340994e-03,  3.6849582e-03,\n",
              "        1.7027382e-03,  4.0025436e-03, -7.2333805e-04,  3.0859229e-03,\n",
              "       -4.9893227e-03,  3.5688861e-03, -2.9546085e-03, -2.4138323e-03,\n",
              "        3.9642872e-03,  2.5358279e-03,  3.9694975e-03, -3.3069383e-03,\n",
              "       -2.5137526e-03, -1.2141221e-03, -1.5612550e-03,  2.1964035e-03,\n",
              "       -2.4940097e-03, -3.7453359e-03,  3.5740272e-03,  3.4906690e-03,\n",
              "       -4.2177434e-03,  3.0338264e-04,  4.9346848e-03,  4.1056802e-03,\n",
              "       -3.7966408e-03,  2.7024141e-03,  2.5943706e-03,  1.2205959e-03,\n",
              "       -1.4249788e-03, -4.3006642e-03,  4.6420274e-03,  1.7831713e-04,\n",
              "       -2.6664867e-03, -4.3794533e-04,  4.4215694e-03,  3.5862252e-03,\n",
              "        4.3155281e-03,  6.7288778e-04,  2.6812674e-03, -4.2145490e-03,\n",
              "        3.9191384e-04, -4.7094766e-03, -4.2214245e-03, -4.8735505e-03,\n",
              "       -3.7210148e-03, -2.6557671e-03, -5.8527803e-04, -3.5626283e-05,\n",
              "        4.0368144e-03, -4.4604503e-03,  1.8996138e-03, -4.3609943e-03,\n",
              "        2.2114972e-03,  2.3850811e-05,  2.8026304e-03, -2.1070433e-03,\n",
              "       -1.1328933e-03,  1.0994724e-03,  4.2142179e-03, -3.2908283e-03],\n",
              "      dtype=float32)"
            ]
          },
          "metadata": {
            "tags": []
          },
          "execution_count": 39
        }
      ]
    },
    {
      "cell_type": "code",
      "metadata": {
        "colab": {
          "base_uri": "https://localhost:8080/"
        },
        "id": "metallic-bulletin",
        "outputId": "2be2d51c-6a60-439f-bb5e-aef5c2913ddf"
      },
      "source": [
        "similar"
      ],
      "id": "metallic-bulletin",
      "execution_count": null,
      "outputs": [
        {
          "output_type": "execute_result",
          "data": {
            "text/plain": [
              "[('actual', 0.23567599058151245),\n",
              " ('hard', 0.23213937878608704),\n",
              " ('generate', 0.23144380748271942),\n",
              " ('traditional', 0.20772813260555267),\n",
              " ('healthcare', 0.20619873702526093),\n",
              " ('several', 0.17855167388916016),\n",
              " ('detect', 0.17723524570465088),\n",
              " ('Nowadays', 0.16555768251419067),\n",
              " ('complexity', 0.16335874795913696),\n",
              " ('either', 0.1550644487142563)]"
            ]
          },
          "metadata": {
            "tags": []
          },
          "execution_count": 40
        }
      ]
    }
  ]
}