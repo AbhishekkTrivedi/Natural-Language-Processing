{
  "nbformat": 4,
  "nbformat_minor": 0,
  "metadata": {
    "colab": {
      "name": "Word Sense Disambiguation_LeskAlgo.ipynb",
      "provenance": [],
      "collapsed_sections": [],
      "include_colab_link": true
    },
    "kernelspec": {
      "name": "python3",
      "display_name": "Python 3"
    },
    "language_info": {
      "name": "python"
    }
  },
  "cells": [
    {
      "cell_type": "markdown",
      "metadata": {
        "id": "view-in-github",
        "colab_type": "text"
      },
      "source": [
        "<a href=\"https://colab.research.google.com/github/tecXworld/Natural-Language-Processing/blob/main/Word_Sense_Disambiguation_LeskAlgo.ipynb\" target=\"_parent\"><img src=\"https://colab.research.google.com/assets/colab-badge.svg\" alt=\"Open In Colab\"/></a>"
      ]
    },
    {
      "cell_type": "code",
      "metadata": {
        "id": "hJbn8JMAJjsY"
      },
      "source": [
        " import nltk\n",
        "nltk.download('all')"
      ],
      "execution_count": null,
      "outputs": []
    },
    {
      "cell_type": "code",
      "metadata": {
        "id": "2saiT0cVJK8U"
      },
      "source": [
        "from nltk.wsd import lesk\n",
        "from nltk.tokenize import word_tokenize"
      ],
      "execution_count": 9,
      "outputs": []
    },
    {
      "cell_type": "code",
      "metadata": {
        "colab": {
          "base_uri": "https://localhost:8080/"
        },
        "id": "BvbrYV8EJg91",
        "outputId": "e63f2767-9713-40a3-d01f-470c878196b4"
      },
      "source": [
        "a1= lesk(word_tokenize('This device is used to jam the signal'),'jam')\n",
        "print(a1,a1.definition())\n",
        "a2 = lesk(word_tokenize('I am stuck in a traffic jam'),'jam')\n",
        "print(a2,a2.definition())"
      ],
      "execution_count": 10,
      "outputs": [
        {
          "output_type": "stream",
          "text": [
            "Synset('jamming.n.01') deliberate radiation or reflection of electromagnetic energy for the purpose of disrupting enemy use of electronic devices or systems\n",
            "Synset('jam.v.05') get stuck and immobilized\n"
          ],
          "name": "stdout"
        }
      ]
    },
    {
      "cell_type": "code",
      "metadata": {
        "colab": {
          "base_uri": "https://localhost:8080/"
        },
        "id": "fZou94TuJ6pj",
        "outputId": "a2b30732-3e29-4f88-8a8f-b78ebca2eaed"
      },
      "source": [
        "# testing with some data\n",
        "b1= lesk(word_tokenize('Apply spices to the chicken to season it'),'season')\n",
        "print(b1,b1.definition())"
      ],
      "execution_count": 11,
      "outputs": [
        {
          "output_type": "stream",
          "text": [
            "Synset('season.v.01') lend flavor to\n"
          ],
          "name": "stdout"
        }
      ]
    },
    {
      "cell_type": "code",
      "metadata": {
        "colab": {
          "base_uri": "https://localhost:8080/"
        },
        "id": "Ajq9hs9MJ6yO",
        "outputId": "8b526804-3fe0-4b9a-c93e-b2c81147671d"
      },
      "source": [
        "b2= lesk(word_tokenize('India receives a lot of rain in the rainy season'),'season')\n",
        "print(b2,b2.definition())"
      ],
      "execution_count": 12,
      "outputs": [
        {
          "output_type": "stream",
          "text": [
            "Synset('season.n.01') a period of the year marked by special events or activities in some field\n"
          ],
          "name": "stdout"
        }
      ]
    },
    {
      "cell_type": "code",
      "metadata": {
        "colab": {
          "base_uri": "https://localhost:8080/"
        },
        "id": "AiTqL67cKFzg",
        "outputId": "9ce0b707-2959-4714-9909-0582cf2d1804"
      },
      "source": [
        "c1= lesk(word_tokenize('Water current'),'current')\n",
        "print(c1,c1.definition())"
      ],
      "execution_count": 13,
      "outputs": [
        {
          "output_type": "stream",
          "text": [
            "Synset('stream.n.02') dominant course (suggestive of running water) of successive events or ideas\n"
          ],
          "name": "stdout"
        }
      ]
    },
    {
      "cell_type": "code",
      "metadata": {
        "colab": {
          "base_uri": "https://localhost:8080/"
        },
        "id": "tgNkAQKdKLHn",
        "outputId": "c9752153-5fb5-412c-cdb3-51e433d8caca"
      },
      "source": [
        "# testing with some data\n",
        "c1= lesk(word_tokenize('The current time is 2 AM'),'current')\n",
        "print(c1,c1.definition())"
      ],
      "execution_count": 14,
      "outputs": [
        {
          "output_type": "stream",
          "text": [
            "Synset('current.a.01') occurring in or belonging to the present time\n"
          ],
          "name": "stdout"
        }
      ]
    }
  ]
}