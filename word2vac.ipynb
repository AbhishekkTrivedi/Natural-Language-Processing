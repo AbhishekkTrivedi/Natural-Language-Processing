{
  "nbformat": 4,
  "nbformat_minor": 0,
  "metadata": {
    "colab": {
      "name": "word2vac.ipynb",
      "provenance": [],
      "authorship_tag": "ABX9TyNp8kas4y+I2uFJnQ00J2Iz",
      "include_colab_link": true
    },
    "kernelspec": {
      "name": "python3",
      "display_name": "Python 3"
    },
    "language_info": {
      "name": "python"
    }
  },
  "cells": [
    {
      "cell_type": "markdown",
      "metadata": {
        "id": "view-in-github",
        "colab_type": "text"
      },
      "source": [
        "<a href=\"https://colab.research.google.com/github/tecXworld/Natural-Language-Processing/blob/main/word2vac.ipynb\" target=\"_parent\"><img src=\"https://colab.research.google.com/assets/colab-badge.svg\" alt=\"Open In Colab\"/></a>"
      ]
    },
    {
      "cell_type": "code",
      "metadata": {
        "id": "2RkgL7mO7K1W"
      },
      "source": [
        "import nltk\n",
        "nltk.download('all')\n",
        "from gensim.models import Word2Vec\n",
        "from nltk.corpus import stopwords\n",
        "\n",
        "import re"
      ],
      "execution_count": null,
      "outputs": []
    },
    {
      "cell_type": "code",
      "metadata": {
        "id": "ZfGZUEPk7TK4"
      },
      "source": [
        "paragraph = \"\"\"I have three visions for India. In 3000 years of our history, people from all over \n",
        "               the world have come and invaded us, captured our lands, conquered our minds. \n",
        "               From Alexander onwards, the Greeks, the Turks, the Moguls, the Portuguese, the British,\n",
        "               the French, the Dutch, all of them came and looted us, took over what was ours. \n",
        "               Yet we have not done this to any other nation. We have not conquered anyone. \n",
        "               We have not grabbed their land, their culture, \n",
        "               their history and tried to enforce our way of life on them. \n",
        "               Why? Because we respect the freedom of others.That is why my \n",
        "               first vision is that of freedom. I believe that India got its first vision of \n",
        "               this in 1857, when we started the War of Independence. It is this freedom that\n",
        "               we must protect and nurture and build on. If we are not free, no one will respect us.\n",
        "               My second vision for India’s development. For fifty years we have been a developing nation.\n",
        "               It is time we see ourselves as a developed nation. We are among the top 5 nations of the world\n",
        "               in terms of GDP. We have a 10 percent growth rate in most areas. Our poverty levels are falling.\n",
        "               Our achievements are being globally recognised today. Yet we lack the self-confidence to\n",
        "               see ourselves as a developed nation, self-reliant and self-assured. Isn’t this incorrect?\n",
        "               I have a third vision. India must stand up to the world. Because I believe that unless India \n",
        "               stands up to the world, no one will respect us. Only strength respects strength. We must be \n",
        "               strong not only as a military power but also as an economic power. Both must go hand-in-hand. \n",
        "               My good fortune was to have worked with three great minds. Dr. Vikram Sarabhai of the Dept. of \n",
        "               space, Professor Satish Dhawan, who succeeded him and Dr. Brahm Prakash, father of nuclear material.\n",
        "               I was lucky to have worked with all three of them closely and consider this the great opportunity of my life. \n",
        "               I see four milestones in my career\"\"\""
      ],
      "execution_count": 17,
      "outputs": []
    },
    {
      "cell_type": "markdown",
      "metadata": {
        "id": "toIlDqlY7mI6"
      },
      "source": [
        "Preprocessing the data"
      ]
    },
    {
      "cell_type": "code",
      "metadata": {
        "id": "cJ6Y-N6f7YTX"
      },
      "source": [
        "\n",
        "text = re.sub(r'\\[[0-9]*\\]',' ',paragraph)\n",
        "text = re.sub(r'\\s+',' ',text)\n",
        "text = text.lower()\n",
        "text = re.sub(r'\\d',' ',text)\n",
        "text = re.sub(r'\\s+',' ',text)"
      ],
      "execution_count": 18,
      "outputs": []
    },
    {
      "cell_type": "markdown",
      "metadata": {
        "id": "HPalMq1M7qv9"
      },
      "source": [
        "Preparing the dataset"
      ]
    },
    {
      "cell_type": "code",
      "metadata": {
        "id": "9emyJgt57fXW"
      },
      "source": [
        "\n",
        "sentences = nltk.sent_tokenize(text)\n",
        "\n",
        "sentences = [nltk.word_tokenize(sentence) for sentence in sentences]\n",
        "\n",
        "for i in range(len(sentences)):\n",
        "    sentences[i] = [word for word in sentences[i] if word not in stopwords.words('english')]\n",
        "    "
      ],
      "execution_count": 19,
      "outputs": []
    },
    {
      "cell_type": "markdown",
      "metadata": {
        "id": "MORbMhVG7utU"
      },
      "source": [
        "Training the Word2Vec model"
      ]
    },
    {
      "cell_type": "code",
      "metadata": {
        "id": "QpDj_m8R7y_K"
      },
      "source": [
        "model = Word2Vec(sentences, min_count=1)\n",
        "\n",
        "words = model.wv.vocab"
      ],
      "execution_count": 20,
      "outputs": []
    },
    {
      "cell_type": "markdown",
      "metadata": {
        "id": "yOrY9RHq8yU2"
      },
      "source": [
        "Finding Word Vectors"
      ]
    },
    {
      "cell_type": "code",
      "metadata": {
        "colab": {
          "base_uri": "https://localhost:8080/"
        },
        "id": "mbFvADWs8nIZ",
        "outputId": "d0cee9aa-bec7-40c1-f4aa-d404a0eabebc"
      },
      "source": [
        "vector = model.wv['war']\n",
        "vector"
      ],
      "execution_count": 25,
      "outputs": [
        {
          "output_type": "execute_result",
          "data": {
            "text/plain": [
              "array([-2.0436584e-03,  1.6526245e-03, -1.7930089e-04, -2.5089274e-03,\n",
              "       -2.5561771e-03, -4.8021558e-03, -3.0562566e-03, -4.9547944e-03,\n",
              "        3.6440121e-03, -3.4404679e-03,  2.5140548e-03,  3.4875555e-03,\n",
              "       -2.1115714e-03, -3.6792464e-03, -4.6533821e-03, -8.0722792e-04,\n",
              "        2.2668899e-03, -1.9384708e-03,  2.3852184e-03, -1.5876531e-03,\n",
              "        2.0817369e-03,  3.4904114e-03, -3.7106739e-03, -4.3069161e-03,\n",
              "        4.3811845e-03,  5.0641672e-04, -8.5326732e-04,  4.2614387e-03,\n",
              "       -1.5768108e-03, -3.5082439e-03,  2.4248485e-03, -1.0084009e-03,\n",
              "       -4.2566424e-03,  1.3964351e-03, -3.3386222e-03,  8.3340966e-04,\n",
              "       -6.8056892e-04, -3.1188796e-03,  3.5734307e-03,  2.9228029e-03,\n",
              "       -6.9563632e-04,  2.2231485e-03, -1.6831612e-03,  7.2772405e-04,\n",
              "       -3.0010359e-04,  4.7155819e-03, -5.1183812e-04, -3.7553832e-03,\n",
              "       -3.6165796e-03,  2.5206092e-03,  1.1335504e-03, -4.8492649e-03,\n",
              "       -3.2493102e-03, -7.7567023e-04,  1.5727512e-03, -3.5640877e-03,\n",
              "        1.0414980e-03, -1.7579360e-04, -4.0916670e-03,  2.6305029e-03,\n",
              "        6.1154715e-04,  4.7957688e-04, -2.3725473e-03,  4.4709309e-03,\n",
              "       -2.3415945e-03,  1.7839622e-03,  1.1612966e-03,  1.8449118e-03,\n",
              "        4.3378212e-03, -4.3024123e-03, -4.8256647e-03, -3.3596703e-03,\n",
              "        4.3014511e-03, -3.0934226e-03, -3.6801980e-03, -4.0356624e-03,\n",
              "        3.5633876e-03, -1.5023934e-03,  2.5428870e-05, -3.4919695e-03,\n",
              "        3.1875207e-03,  1.9512635e-03, -4.9247872e-03,  1.8652006e-03,\n",
              "       -1.5081648e-03, -1.3169491e-03,  2.5676743e-03, -2.2402643e-03,\n",
              "        4.5651821e-03,  1.7393564e-04,  3.9329589e-03,  1.2032465e-04,\n",
              "       -2.8439246e-03,  2.4524535e-04, -4.3764175e-03, -3.5295235e-03,\n",
              "        4.4042491e-03, -1.7850155e-04, -5.6119770e-04,  3.4106399e-03],\n",
              "      dtype=float32)"
            ]
          },
          "metadata": {
            "tags": []
          },
          "execution_count": 25
        }
      ]
    },
    {
      "cell_type": "markdown",
      "metadata": {
        "id": "a0c-ufx68788"
      },
      "source": [
        "Most similar words"
      ]
    },
    {
      "cell_type": "code",
      "metadata": {
        "colab": {
          "base_uri": "https://localhost:8080/"
        },
        "id": "ziKXzINa84Gf",
        "outputId": "cc973035-1b3f-4a94-d502-2a99c3df2b62"
      },
      "source": [
        "similar = model.wv.most_similar('vikram')\n",
        "similar"
      ],
      "execution_count": 24,
      "outputs": [
        {
          "output_type": "execute_result",
          "data": {
            "text/plain": [
              "[('go', 0.19984877109527588),\n",
              " ('succeeded', 0.1791800707578659),\n",
              " ('fortune', 0.1737244725227356),\n",
              " ('opportunity', 0.17181846499443054),\n",
              " ('unless', 0.16268037259578705),\n",
              " ('come', 0.16152383387088776),\n",
              " ('worked', 0.15058062970638275),\n",
              " ('professor', 0.14963698387145996),\n",
              " ('vision', 0.14804507791996002),\n",
              " ('good', 0.1472584754228592)]"
            ]
          },
          "metadata": {
            "tags": []
          },
          "execution_count": 24
        }
      ]
    }
  ]
}