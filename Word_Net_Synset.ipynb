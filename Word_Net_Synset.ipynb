{
  "nbformat": 4,
  "nbformat_minor": 0,
  "metadata": {
    "colab": {
      "name": "Word_Net-Synset.ipynb",
      "provenance": [],
      "collapsed_sections": [],
      "include_colab_link": true
    },
    "kernelspec": {
      "name": "python3",
      "display_name": "Python 3"
    },
    "language_info": {
      "name": "python"
    }
  },
  "cells": [
    {
      "cell_type": "markdown",
      "metadata": {
        "id": "view-in-github",
        "colab_type": "text"
      },
      "source": [
        "<a href=\"https://colab.research.google.com/github/tecXworld/Natural-Language-Processing/blob/main/Word_Net_Synset.ipynb\" target=\"_parent\"><img src=\"https://colab.research.google.com/assets/colab-badge.svg\" alt=\"Open In Colab\"/></a>"
      ]
    },
    {
      "cell_type": "code",
      "metadata": {
        "colab": {
          "base_uri": "https://localhost:8080/"
        },
        "id": "itSwBmoyaeFs",
        "outputId": "b8d785da-ad66-4dbe-e1de-ab4f4631e220"
      },
      "source": [
        "#importing the nltk library\n",
        "import nltk \n",
        "\n",
        "#downloading the wordnet package\n",
        "nltk.download('wordnet')\n",
        "from nltk.corpus import wordnet\n",
        "syn = wordnet.synsets('acknowledgment')[0]\n",
        "\n",
        "#checking the word in wordnet database\n",
        "print(\"synset name : \",syn.name() )\n",
        "\n",
        "#checking the hypernyms\n",
        "print('synset abstrat term :' , syn.hypernyms())\n",
        "\n",
        "syn1 = wordnet.synsets('doing')[0]\n",
        "print(syn1)"
      ],
      "execution_count": 1,
      "outputs": [
        {
          "output_type": "stream",
          "text": [
            "[nltk_data] Downloading package wordnet to /root/nltk_data...\n",
            "[nltk_data]   Unzipping corpora/wordnet.zip.\n",
            "synset name :  recognition.n.01\n",
            "synset abstrat term : [Synset('acceptance.n.03')]\n",
            "Synset('make.v.01')\n"
          ],
          "name": "stdout"
        }
      ]
    },
    {
      "cell_type": "code",
      "metadata": {
        "id": "Ln_xr66sa8zw"
      },
      "source": [
        "#Wu-palmer in wordnet \n",
        "#finding similarities between words\n",
        "from nltk.corpus import wordnet"
      ],
      "execution_count": 2,
      "outputs": []
    },
    {
      "cell_type": "code",
      "metadata": {
        "colab": {
          "base_uri": "https://localhost:8080/"
        },
        "id": "INCfvsTKBSXi",
        "outputId": "0df55b1e-2b48-4fb9-e0a5-4ec668e65d8f"
      },
      "source": [
        "#defining two synset of one word each\n",
        "syn1 = wordnet.synsets('hello')[0]\n",
        "syn2 = wordnet.synsets('greeting')[0]\n",
        "print(\"hello name: \" , syn1.name())\n",
        "print(\"selling name: \" , syn2.name())\n"
      ],
      "execution_count": 3,
      "outputs": [
        {
          "output_type": "stream",
          "text": [
            "hello name:  hello.n.01\n",
            "selling name:  greeting.n.01\n"
          ],
          "name": "stdout"
        }
      ]
    },
    {
      "cell_type": "code",
      "metadata": {
        "colab": {
          "base_uri": "https://localhost:8080/"
        },
        "id": "QVbjvO-KBPjW",
        "outputId": "893d0cb4-3f7b-4668-b30f-e328ab14b693"
      },
      "source": [
        "#function to check the similarities between synsets\n",
        "syn1.wup_similarity(syn2)"
      ],
      "execution_count": 4,
      "outputs": [
        {
          "output_type": "execute_result",
          "data": {
            "text/plain": [
              "0.9230769230769231"
            ]
          },
          "metadata": {
            "tags": []
          },
          "execution_count": 4
        }
      ]
    }
  ]
}