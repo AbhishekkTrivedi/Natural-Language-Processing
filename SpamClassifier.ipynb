{
  "nbformat": 4,
  "nbformat_minor": 5,
  "metadata": {
    "kernelspec": {
      "display_name": "Python 3",
      "language": "python",
      "name": "python3"
    },
    "language_info": {
      "codemirror_mode": {
        "name": "ipython",
        "version": 3
      },
      "file_extension": ".py",
      "mimetype": "text/x-python",
      "name": "python",
      "nbconvert_exporter": "python",
      "pygments_lexer": "ipython3",
      "version": "3.9.4"
    },
    "colab": {
      "name": "SpamClassifier.ipynb",
      "provenance": [],
      "include_colab_link": true
    }
  },
  "cells": [
    {
      "cell_type": "markdown",
      "metadata": {
        "id": "view-in-github",
        "colab_type": "text"
      },
      "source": [
        "<a href=\"https://colab.research.google.com/github/tecXworld/Natural-Language-Processing/blob/main/SpamClassifier.ipynb\" target=\"_parent\"><img src=\"https://colab.research.google.com/assets/colab-badge.svg\" alt=\"Open In Colab\"/></a>"
      ]
    },
    {
      "cell_type": "code",
      "metadata": {
        "id": "1c34cbf8"
      },
      "source": [
        "import pandas as pd\n",
        "import re\n",
        "import nltk\n",
        "nltk.download('all')"
      ],
      "id": "1c34cbf8",
      "execution_count": null,
      "outputs": []
    },
    {
      "cell_type": "code",
      "metadata": {
        "colab": {
          "base_uri": "https://localhost:8080/"
        },
        "id": "C8jVcvl6wgvl",
        "outputId": "743788e8-7427-4980-9130-f2185d627ff2"
      },
      "source": [
        "from google.colab import drive\n",
        "drive.mount('/content/gdrive')"
      ],
      "id": "C8jVcvl6wgvl",
      "execution_count": null,
      "outputs": [
        {
          "output_type": "stream",
          "text": [
            "Drive already mounted at /content/gdrive; to attempt to forcibly remount, call drive.mount(\"/content/gdrive\", force_remount=True).\n"
          ],
          "name": "stdout"
        }
      ]
    },
    {
      "cell_type": "code",
      "metadata": {
        "id": "9d2dd267"
      },
      "source": [
        "messages = pd.read_csv('/content/gdrive/MyDrive/SMSSpamCollection', sep='\\t',\n",
        "                           names=[\"label\", \"message\"])"
      ],
      "id": "9d2dd267",
      "execution_count": null,
      "outputs": []
    },
    {
      "cell_type": "code",
      "metadata": {
        "colab": {
          "base_uri": "https://localhost:8080/"
        },
        "id": "dd2b7dfb",
        "outputId": "71247e65-ae10-4db5-d604-edae047abcbb"
      },
      "source": [
        "print(messages.head())"
      ],
      "id": "dd2b7dfb",
      "execution_count": null,
      "outputs": [
        {
          "output_type": "stream",
          "text": [
            "  label                                            message\n",
            "0   ham  Go until jurong point, crazy.. Available only ...\n",
            "1   ham                      Ok lar... Joking wif u oni...\n",
            "2  spam  Free entry in 2 a wkly comp to win FA Cup fina...\n",
            "3   ham  U dun say so early hor... U c already then say...\n",
            "4   ham  Nah I don't think he goes to usf, he lives aro...\n"
          ],
          "name": "stdout"
        }
      ]
    },
    {
      "cell_type": "code",
      "metadata": {
        "id": "8f8105d8"
      },
      "source": [
        "#Data cleaning and preprocessing\n",
        "from nltk.corpus import stopwords\n",
        "from nltk.stem.porter import PorterStemmer\n",
        "from nltk.stem import WordNetLemmatizer\n",
        "ps = PorterStemmer()\n",
        "wordnet=WordNetLemmatizer()\n",
        "corpus = []"
      ],
      "id": "8f8105d8",
      "execution_count": null,
      "outputs": []
    },
    {
      "cell_type": "code",
      "metadata": {
        "id": "9f46ca24"
      },
      "source": [
        "for i in range(0, len(messages)):\n",
        "    review = re.sub('[^a-zA-Z]', ' ', messages['message'][i])\n",
        "    review = review.lower()\n",
        "    review = review.split()\n",
        "    review = [wordnet.lemmatize(word) for word in review if not word in set(stopwords.words('english'))]\n",
        "    #review = [ps.stem(word) for word in review if not word in stopwords.words('english')]\n",
        "    review = ' '.join(review)\n",
        "    corpus.append(review)"
      ],
      "id": "9f46ca24",
      "execution_count": null,
      "outputs": []
    },
    {
      "cell_type": "code",
      "metadata": {
        "id": "84252bcf"
      },
      "source": [
        "print(*corpus, sep = \"\\n\")"
      ],
      "id": "84252bcf",
      "execution_count": null,
      "outputs": []
    },
    {
      "cell_type": "code",
      "metadata": {
        "id": "c839c9e0"
      },
      "source": [
        "# Bag Of Words Model\n",
        "from sklearn.feature_extraction.text import CountVectorizer\n",
        "cv = CountVectorizer()\n",
        "X = cv.fit_transform(corpus).toarray()\n",
        "\n",
        "#TF-IDF Model\n",
        "#from sklearn.feature_extraction.text import TfidfVectorizer\n",
        "#cv = TfidfVectorizer()\n",
        "#X = cv.fit_transform(corpus).toarray()"
      ],
      "id": "c839c9e0",
      "execution_count": null,
      "outputs": []
    },
    {
      "cell_type": "code",
      "metadata": {
        "colab": {
          "base_uri": "https://localhost:8080/"
        },
        "id": "7ca464a0",
        "outputId": "f2ca4525-06e2-4434-b24d-39d184428ba9"
      },
      "source": [
        "y=pd.get_dummies(messages['label'])\n",
        "print(y)"
      ],
      "id": "7ca464a0",
      "execution_count": null,
      "outputs": [
        {
          "output_type": "stream",
          "text": [
            "      ham  spam\n",
            "0       1     0\n",
            "1       1     0\n",
            "2       0     1\n",
            "3       1     0\n",
            "4       1     0\n",
            "...   ...   ...\n",
            "5567    0     1\n",
            "5568    1     0\n",
            "5569    1     0\n",
            "5570    1     0\n",
            "5571    1     0\n",
            "\n",
            "[5572 rows x 2 columns]\n"
          ],
          "name": "stdout"
        }
      ]
    },
    {
      "cell_type": "code",
      "metadata": {
        "colab": {
          "base_uri": "https://localhost:8080/"
        },
        "id": "438badf5",
        "outputId": "473955d8-e916-4ef8-85b5-99b53ce0592e"
      },
      "source": [
        "y=y.iloc[:,1].values\n",
        "print(y)"
      ],
      "id": "438badf5",
      "execution_count": null,
      "outputs": [
        {
          "output_type": "stream",
          "text": [
            "[0 0 1 ... 0 0 0]\n"
          ],
          "name": "stdout"
        }
      ]
    },
    {
      "cell_type": "code",
      "metadata": {
        "id": "07a3917e"
      },
      "source": [
        "# Train Test Split\n",
        "from sklearn.model_selection import train_test_split\n",
        "X_train, X_test, y_train, y_test = train_test_split(X, y, test_size = 0.20, random_state = 0)"
      ],
      "id": "07a3917e",
      "execution_count": null,
      "outputs": []
    },
    {
      "cell_type": "code",
      "metadata": {
        "colab": {
          "base_uri": "https://localhost:8080/"
        },
        "id": "bbe97eb2",
        "outputId": "8ff28361-eb08-4da7-fff9-5e558d7e07d9"
      },
      "source": [
        "from sklearn.linear_model import LogisticRegression\n",
        "from sklearn.svm import SVC\n",
        "from sklearn.naive_bayes import MultinomialNB\n",
        "from sklearn.tree import DecisionTreeClassifier\n",
        "from sklearn.neighbors import KNeighborsClassifier\n",
        "from sklearn.ensemble import RandomForestClassifier\n",
        "from sklearn.metrics import accuracy_score\n",
        "from sklearn.metrics import confusion_matrix\n",
        "svc = SVC()\n",
        "knc = KNeighborsClassifier()\n",
        "mnb = MultinomialNB()\n",
        "dtc = DecisionTreeClassifier()\n",
        "lrc = LogisticRegression()\n",
        "rfc = RandomForestClassifier()\n",
        "\n",
        "clfs = {'SVC' : svc,'KN' : knc, 'NB': mnb, 'DT': dtc, 'LR': lrc, 'RF': rfc}\n",
        "\n",
        "def train(clf, features, targets):    \n",
        "    clf.fit(features, targets)\n",
        "    \n",
        "def predict(clf, features):\n",
        "    return (clf.predict(features))\n",
        "pred_scores_word_vectors = []\n",
        "cm = []\n",
        "\n",
        "for k,v in clfs.items():\n",
        "    train(v, X_train, y_train)\n",
        "    pred = predict(v, X_test)\n",
        "    print(\"--------------\",clfs[k],\"-------------\")\n",
        "    print(\"Test\", y_test)\n",
        "    print(\"Pred\", pred)\n",
        "    cm.append((k,[confusion_matrix(y_test,pred)]))\n",
        "    pred_scores_word_vectors.append((k, [accuracy_score(y_test , pred)]))"
      ],
      "id": "bbe97eb2",
      "execution_count": null,
      "outputs": [
        {
          "output_type": "stream",
          "text": [
            "-------------- SVC(C=1.0, break_ties=False, cache_size=200, class_weight=None, coef0=0.0,\n",
            "    decision_function_shape='ovr', degree=3, gamma='scale', kernel='rbf',\n",
            "    max_iter=-1, probability=False, random_state=None, shrinking=True,\n",
            "    tol=0.001, verbose=False) -------------\n",
            "Test [0 1 0 ... 0 1 0]\n",
            "Pred [0 1 0 ... 0 1 0]\n",
            "-------------- KNeighborsClassifier(algorithm='auto', leaf_size=30, metric='minkowski',\n",
            "                     metric_params=None, n_jobs=None, n_neighbors=5, p=2,\n",
            "                     weights='uniform') -------------\n",
            "Test [0 1 0 ... 0 1 0]\n",
            "Pred [0 1 0 ... 0 1 0]\n",
            "-------------- MultinomialNB(alpha=1.0, class_prior=None, fit_prior=True) -------------\n",
            "Test [0 1 0 ... 0 1 0]\n",
            "Pred [0 1 0 ... 0 1 0]\n",
            "-------------- DecisionTreeClassifier(ccp_alpha=0.0, class_weight=None, criterion='gini',\n",
            "                       max_depth=None, max_features=None, max_leaf_nodes=None,\n",
            "                       min_impurity_decrease=0.0, min_impurity_split=None,\n",
            "                       min_samples_leaf=1, min_samples_split=2,\n",
            "                       min_weight_fraction_leaf=0.0, presort='deprecated',\n",
            "                       random_state=None, splitter='best') -------------\n",
            "Test [0 1 0 ... 0 1 0]\n",
            "Pred [0 1 0 ... 0 1 0]\n",
            "-------------- LogisticRegression(C=1.0, class_weight=None, dual=False, fit_intercept=True,\n",
            "                   intercept_scaling=1, l1_ratio=None, max_iter=100,\n",
            "                   multi_class='auto', n_jobs=None, penalty='l2',\n",
            "                   random_state=None, solver='lbfgs', tol=0.0001, verbose=0,\n",
            "                   warm_start=False) -------------\n",
            "Test [0 1 0 ... 0 1 0]\n",
            "Pred [0 1 0 ... 0 1 0]\n",
            "-------------- RandomForestClassifier(bootstrap=True, ccp_alpha=0.0, class_weight=None,\n",
            "                       criterion='gini', max_depth=None, max_features='auto',\n",
            "                       max_leaf_nodes=None, max_samples=None,\n",
            "                       min_impurity_decrease=0.0, min_impurity_split=None,\n",
            "                       min_samples_leaf=1, min_samples_split=2,\n",
            "                       min_weight_fraction_leaf=0.0, n_estimators=100,\n",
            "                       n_jobs=None, oob_score=False, random_state=None,\n",
            "                       verbose=0, warm_start=False) -------------\n",
            "Test [0 1 0 ... 0 1 0]\n",
            "Pred [0 1 0 ... 0 1 0]\n"
          ],
          "name": "stdout"
        }
      ]
    },
    {
      "cell_type": "code",
      "metadata": {
        "colab": {
          "base_uri": "https://localhost:8080/"
        },
        "id": "4ab71fb2",
        "outputId": "a1727764-4f32-4565-bc9d-6a81b1429cf4"
      },
      "source": [
        "    print(*cm, sep = \"\\n\")"
      ],
      "id": "4ab71fb2",
      "execution_count": null,
      "outputs": [
        {
          "output_type": "stream",
          "text": [
            "('SVC', [array([[955,   0],\n",
            "       [ 19, 141]])])\n",
            "('KN', [array([[955,   0],\n",
            "       [ 91,  69]])])\n",
            "('NB', [array([[936,  19],\n",
            "       [  7, 153]])])\n",
            "('DT', [array([[949,   6],\n",
            "       [ 21, 139]])])\n",
            "('LR', [array([[955,   0],\n",
            "       [ 17, 143]])])\n",
            "('RF', [array([[954,   1],\n",
            "       [ 23, 137]])])\n"
          ],
          "name": "stdout"
        }
      ]
    },
    {
      "cell_type": "code",
      "metadata": {
        "colab": {
          "base_uri": "https://localhost:8080/"
        },
        "id": "512e3bc7",
        "outputId": "24d20907-8a96-4026-df8b-be5fe9e9ab05"
      },
      "source": [
        "    print(*pred_scores_word_vectors, sep = \"\\n\")"
      ],
      "id": "512e3bc7",
      "execution_count": null,
      "outputs": [
        {
          "output_type": "stream",
          "text": [
            "('SVC', [0.9829596412556054])\n",
            "('KN', [0.9183856502242153])\n",
            "('NB', [0.9766816143497757])\n",
            "('DT', [0.9757847533632287])\n",
            "('LR', [0.9847533632286996])\n",
            "('RF', [0.97847533632287])\n"
          ],
          "name": "stdout"
        }
      ]
    },
    {
      "cell_type": "code",
      "metadata": {
        "id": "5a40ef32"
      },
      "source": [
        "def find(x):\n",
        "    if x == 1:\n",
        "        print (\"Message is SPAM\")\n",
        "    else:\n",
        "        print (\"Message is NOT Spam\")"
      ],
      "id": "5a40ef32",
      "execution_count": null,
      "outputs": []
    },
    {
      "cell_type": "code",
      "metadata": {
        "colab": {
          "base_uri": "https://localhost:8080/"
        },
        "id": "e0600b2f",
        "outputId": "a9a3c306-5a86-4935-8dd0-60e0a977f7c3"
      },
      "source": [
        "text = [\"Free tones Hope you enjoyed your new content\"]\n",
        "integers = cv.transform(text)\n",
        "x = mnb.predict(integers)[0]\n",
        "find(x) "
      ],
      "id": "e0600b2f",
      "execution_count": null,
      "outputs": [
        {
          "output_type": "stream",
          "text": [
            "Message is SPAM\n"
          ],
          "name": "stdout"
        }
      ]
    },
    {
      "cell_type": "code",
      "metadata": {
        "colab": {
          "base_uri": "https://localhost:8080/"
        },
        "id": "e37d5a58",
        "outputId": "7df8c0be-e427-453d-b7a8-d5db8b82f873"
      },
      "source": [
        "text = [\"I HAVE A DATE ON SUNDAY WITH WILL!!\"]\n",
        "integers = cv.transform(text)\n",
        "x = mnb.predict(integers)[0]\n",
        "find(x) "
      ],
      "id": "e37d5a58",
      "execution_count": null,
      "outputs": [
        {
          "output_type": "stream",
          "text": [
            "Message is NOT Spam\n"
          ],
          "name": "stdout"
        }
      ]
    },
    {
      "cell_type": "code",
      "metadata": {
        "colab": {
          "base_uri": "https://localhost:8080/"
        },
        "id": "64b1084f",
        "outputId": "949081a9-91f0-42cf-d5d1-35243a0d3056"
      },
      "source": [
        "text = [\"Lol your always so convincing.\"]\n",
        "integers = cv.transform(text)\n",
        "x = mnb.predict(integers)[0]\n",
        "find(x) "
      ],
      "id": "64b1084f",
      "execution_count": null,
      "outputs": [
        {
          "output_type": "stream",
          "text": [
            "Message is NOT Spam\n"
          ],
          "name": "stdout"
        }
      ]
    },
    {
      "cell_type": "code",
      "metadata": {
        "scrolled": true,
        "colab": {
          "base_uri": "https://localhost:8080/"
        },
        "id": "8ea9e373",
        "outputId": "44a6bee1-5071-4624-f984-5683f16887fc"
      },
      "source": [
        "text = [\"Hey, What should I cook for dinner?\"]\n",
        "integers = cv.transform(text)\n",
        "x = mnb.predict(integers)[0]\n",
        "find(x) "
      ],
      "id": "8ea9e373",
      "execution_count": null,
      "outputs": [
        {
          "output_type": "stream",
          "text": [
            "Message is NOT Spam\n"
          ],
          "name": "stdout"
        }
      ]
    },
    {
      "cell_type": "code",
      "metadata": {
        "colab": {
          "base_uri": "https://localhost:8080/"
        },
        "id": "c7591846",
        "outputId": "8ab11e27-6924-43ff-ff76-be9266d26a81"
      },
      "source": [
        "text = [\"Winner! Hola you recieved 500 credit points.\"]\n",
        "integers = cv.transform(text)\n",
        "x = mnb.predict(integers)[0]\n",
        "find(x) "
      ],
      "id": "c7591846",
      "execution_count": null,
      "outputs": [
        {
          "output_type": "stream",
          "text": [
            "Message is SPAM\n"
          ],
          "name": "stdout"
        }
      ]
    }
  ]
}